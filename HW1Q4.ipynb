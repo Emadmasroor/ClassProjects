{
 "cells": [
  {
   "cell_type": "markdown",
   "metadata": {},
   "source": [
    "## First-order Backward-difference method in space and Euler explicit method in time"
   ]
  },
  {
   "cell_type": "code",
   "execution_count": 2,
   "metadata": {},
   "outputs": [],
   "source": [
    "import Pkg;"
   ]
  },
  {
   "cell_type": "code",
   "execution_count": 3,
   "metadata": {},
   "outputs": [
    {
     "name": "stdout",
     "output_type": "stream",
     "text": [
      "\u001b[32m\u001b[1m  Updating\u001b[22m\u001b[39m registry at `~/.julia/registries/General`\n",
      "\u001b[32m\u001b[1m  Updating\u001b[22m\u001b[39m git-repo `https://github.com/JuliaRegistries/General.git`\n",
      "\u001b[2K\u001b[?25h[1mFetching:\u001b[22m\u001b[39m [========================================>]  100.0 %.0 %\u001b[32m\u001b[1m Resolving\u001b[22m\u001b[39m package versions...\n",
      "\u001b[32m\u001b[1m  Updating\u001b[22m\u001b[39m `~/.julia/environments/v1.1/Project.toml`\n",
      "\u001b[90m [no changes]\u001b[39m\n",
      "\u001b[32m\u001b[1m  Updating\u001b[22m\u001b[39m `~/.julia/environments/v1.1/Manifest.toml`\n",
      "\u001b[90m [no changes]\u001b[39m\n"
     ]
    }
   ],
   "source": [
    "Pkg.add(\"Plots\"); "
   ]
  },
  {
   "cell_type": "code",
   "execution_count": 4,
   "metadata": {},
   "outputs": [],
   "source": [
    "using Plots"
   ]
  },
  {
   "cell_type": "code",
   "execution_count": 5,
   "metadata": {},
   "outputs": [],
   "source": [
    "Δt = 0.05; c = 1; Δx = 0.1; # Courant number is 0.5\n",
    "x = -6:Δx:6;\n",
    "tfinal = 2;\n",
    "time = 0:Δt:tfinal;\n",
    "u0 = zeros(length(x));\n",
    "for i in 1:121\n",
    "    u0[i] = exp(-x[i]^2)\n",
    "end"
   ]
  },
  {
   "cell_type": "code",
   "execution_count": 6,
   "metadata": {},
   "outputs": [
    {
     "data": {
      "text/plain": [
       "121-element Array{Float64,1}:\n",
       " 2.3195228302435696e-16\n",
       " 7.624459905389722e-16 \n",
       " 2.4565953687921433e-15\n",
       " 7.758402075696054e-15 \n",
       " 2.4017347816209693e-14\n",
       " 7.287724095819692e-14 \n",
       " 2.167568882618954e-13 \n",
       " 6.319285885175368e-13 \n",
       " 1.8058314375132107e-12\n",
       " 5.058252742843803e-12 \n",
       " 1.3887943864964021e-11\n",
       " 3.737571327944243e-11 \n",
       " 9.859505575991516e-11 \n",
       " ⋮                     \n",
       " 3.737571327944243e-11 \n",
       " 1.3887943864964021e-11\n",
       " 5.058252742843803e-12 \n",
       " 1.8058314375132107e-12\n",
       " 6.319285885175368e-13 \n",
       " 2.167568882618954e-13 \n",
       " 7.287724095819692e-14 \n",
       " 2.4017347816209693e-14\n",
       " 7.758402075696054e-15 \n",
       " 2.4565953687921433e-15\n",
       " 7.624459905389722e-16 \n",
       " 2.3195228302435696e-16"
      ]
     },
     "execution_count": 6,
     "metadata": {},
     "output_type": "execute_result"
    }
   ],
   "source": [
    "u = zeros(length(x),length(time));\n",
    "u[:,1]=u0; # apply initial condition in time; the boundary condition in space is zero."
   ]
  },
  {
   "cell_type": "code",
   "execution_count": 7,
   "metadata": {},
   "outputs": [],
   "source": [
    "for j in 2:length(x) # advancing forward in space\n",
    "    for i in 2:length(time) # advancing forward in time;\n",
    "            u[j,i] = u[j,i-1]-(c*Δt/Δx)*(u[j,i-1]-u[j-1,i-1]); \n",
    "    end\n",
    "end"
   ]
  },
  {
   "cell_type": "code",
   "execution_count": 8,
   "metadata": {},
   "outputs": [],
   "source": [
    "Δt2 = 0.1; # Courant number is now 1\n",
    "time2 = 0:Δt2:tfinal;"
   ]
  },
  {
   "cell_type": "code",
   "execution_count": 9,
   "metadata": {},
   "outputs": [],
   "source": [
    "u2 = zeros(length(x),length(time2));\n",
    "u2[:,1] = u0;"
   ]
  },
  {
   "cell_type": "code",
   "execution_count": 10,
   "metadata": {},
   "outputs": [],
   "source": [
    "for j in 2:length(x) # advancing forward in space\n",
    "    for i in 2:length(time2) # advancing forward in time;\n",
    "            u2[j,i] = u2[j,i-1]-(c*Δt2/Δx)*(u2[j,i-1]-u2[j-1,i-1]); \n",
    "    end\n",
    "end"
   ]
  },
  {
   "cell_type": "markdown",
   "metadata": {},
   "source": [
    "### Euler explicit in time, backward-difference in space"
   ]
  },
  {
   "cell_type": "code",
   "execution_count": 19,
   "metadata": {},
   "outputs": [
    {
     "data": {
      "image/svg+xml": [
       "<?xml version=\"1.0\" encoding=\"utf-8\"?>\n",
       "<svg xmlns=\"http://www.w3.org/2000/svg\" xmlns:xlink=\"http://www.w3.org/1999/xlink\" width=\"600\" height=\"400\" viewBox=\"0 0 2400 1600\">\n",
       "<defs>\n",
       "  <clipPath id=\"clip3300\">\n",
       "    <rect x=\"0\" y=\"0\" width=\"2400\" height=\"1600\"/>\n",
       "  </clipPath>\n",
       "</defs>\n",
       "<polygon clip-path=\"url(#clip3300)\" points=\"\n",
       "0,1600 2400,1600 2400,0 0,0 \n",
       "  \" fill=\"#ffffff\" fill-rule=\"evenodd\" fill-opacity=\"1\"/>\n",
       "<defs>\n",
       "  <clipPath id=\"clip3301\">\n",
       "    <rect x=\"480\" y=\"0\" width=\"1681\" height=\"1600\"/>\n",
       "  </clipPath>\n",
       "</defs>\n",
       "<polygon clip-path=\"url(#clip3300)\" points=\"\n",
       "180.66,1487.47 2352.76,1487.47 2352.76,47.2441 180.66,47.2441 \n",
       "  \" fill=\"#ffffff\" fill-rule=\"evenodd\" fill-opacity=\"1\"/>\n",
       "<defs>\n",
       "  <clipPath id=\"clip3302\">\n",
       "    <rect x=\"180\" y=\"47\" width=\"2173\" height=\"1441\"/>\n",
       "  </clipPath>\n",
       "</defs>\n",
       "<polyline clip-path=\"url(#clip3302)\" style=\"stroke:#000000; stroke-width:2; stroke-opacity:0.1; fill:none\" points=\"\n",
       "  412.897,1487.47 412.897,47.2441 \n",
       "  \"/>\n",
       "<polyline clip-path=\"url(#clip3302)\" style=\"stroke:#000000; stroke-width:2; stroke-opacity:0.1; fill:none\" points=\"\n",
       "  839.803,1487.47 839.803,47.2441 \n",
       "  \"/>\n",
       "<polyline clip-path=\"url(#clip3302)\" style=\"stroke:#000000; stroke-width:2; stroke-opacity:0.1; fill:none\" points=\"\n",
       "  1266.71,1487.47 1266.71,47.2441 \n",
       "  \"/>\n",
       "<polyline clip-path=\"url(#clip3302)\" style=\"stroke:#000000; stroke-width:2; stroke-opacity:0.1; fill:none\" points=\"\n",
       "  1693.61,1487.47 1693.61,47.2441 \n",
       "  \"/>\n",
       "<polyline clip-path=\"url(#clip3302)\" style=\"stroke:#000000; stroke-width:2; stroke-opacity:0.1; fill:none\" points=\"\n",
       "  2120.52,1487.47 2120.52,47.2441 \n",
       "  \"/>\n",
       "<polyline clip-path=\"url(#clip3302)\" style=\"stroke:#000000; stroke-width:2; stroke-opacity:0.1; fill:none\" points=\"\n",
       "  180.66,1446.71 2352.76,1446.71 \n",
       "  \"/>\n",
       "<polyline clip-path=\"url(#clip3302)\" style=\"stroke:#000000; stroke-width:2; stroke-opacity:0.1; fill:none\" points=\"\n",
       "  180.66,1107.04 2352.76,1107.04 \n",
       "  \"/>\n",
       "<polyline clip-path=\"url(#clip3302)\" style=\"stroke:#000000; stroke-width:2; stroke-opacity:0.1; fill:none\" points=\"\n",
       "  180.66,767.359 2352.76,767.359 \n",
       "  \"/>\n",
       "<polyline clip-path=\"url(#clip3302)\" style=\"stroke:#000000; stroke-width:2; stroke-opacity:0.1; fill:none\" points=\"\n",
       "  180.66,427.682 2352.76,427.682 \n",
       "  \"/>\n",
       "<polyline clip-path=\"url(#clip3302)\" style=\"stroke:#000000; stroke-width:2; stroke-opacity:0.1; fill:none\" points=\"\n",
       "  180.66,88.0053 2352.76,88.0053 \n",
       "  \"/>\n",
       "<polyline clip-path=\"url(#clip3300)\" style=\"stroke:#000000; stroke-width:4; stroke-opacity:1; fill:none\" points=\"\n",
       "  180.66,1487.47 2352.76,1487.47 \n",
       "  \"/>\n",
       "<polyline clip-path=\"url(#clip3300)\" style=\"stroke:#000000; stroke-width:4; stroke-opacity:1; fill:none\" points=\"\n",
       "  180.66,1487.47 180.66,47.2441 \n",
       "  \"/>\n",
       "<polyline clip-path=\"url(#clip3300)\" style=\"stroke:#000000; stroke-width:4; stroke-opacity:1; fill:none\" points=\"\n",
       "  412.897,1487.47 412.897,1465.87 \n",
       "  \"/>\n",
       "<polyline clip-path=\"url(#clip3300)\" style=\"stroke:#000000; stroke-width:4; stroke-opacity:1; fill:none\" points=\"\n",
       "  839.803,1487.47 839.803,1465.87 \n",
       "  \"/>\n",
       "<polyline clip-path=\"url(#clip3300)\" style=\"stroke:#000000; stroke-width:4; stroke-opacity:1; fill:none\" points=\"\n",
       "  1266.71,1487.47 1266.71,1465.87 \n",
       "  \"/>\n",
       "<polyline clip-path=\"url(#clip3300)\" style=\"stroke:#000000; stroke-width:4; stroke-opacity:1; fill:none\" points=\"\n",
       "  1693.61,1487.47 1693.61,1465.87 \n",
       "  \"/>\n",
       "<polyline clip-path=\"url(#clip3300)\" style=\"stroke:#000000; stroke-width:4; stroke-opacity:1; fill:none\" points=\"\n",
       "  2120.52,1487.47 2120.52,1465.87 \n",
       "  \"/>\n",
       "<polyline clip-path=\"url(#clip3300)\" style=\"stroke:#000000; stroke-width:4; stroke-opacity:1; fill:none\" points=\"\n",
       "  180.66,1446.71 213.242,1446.71 \n",
       "  \"/>\n",
       "<polyline clip-path=\"url(#clip3300)\" style=\"stroke:#000000; stroke-width:4; stroke-opacity:1; fill:none\" points=\"\n",
       "  180.66,1107.04 213.242,1107.04 \n",
       "  \"/>\n",
       "<polyline clip-path=\"url(#clip3300)\" style=\"stroke:#000000; stroke-width:4; stroke-opacity:1; fill:none\" points=\"\n",
       "  180.66,767.359 213.242,767.359 \n",
       "  \"/>\n",
       "<polyline clip-path=\"url(#clip3300)\" style=\"stroke:#000000; stroke-width:4; stroke-opacity:1; fill:none\" points=\"\n",
       "  180.66,427.682 213.242,427.682 \n",
       "  \"/>\n",
       "<polyline clip-path=\"url(#clip3300)\" style=\"stroke:#000000; stroke-width:4; stroke-opacity:1; fill:none\" points=\"\n",
       "  180.66,88.0053 213.242,88.0053 \n",
       "  \"/>\n",
       "<g clip-path=\"url(#clip3300)\">\n",
       "<text style=\"fill:#000000; fill-opacity:1; font-family:Arial,Helvetica Neue,Helvetica,sans-serif; font-size:48px; text-anchor:middle;\" transform=\"rotate(0, 412.897, 1541.47)\" x=\"412.897\" y=\"1541.47\">-5.0</text>\n",
       "</g>\n",
       "<g clip-path=\"url(#clip3300)\">\n",
       "<text style=\"fill:#000000; fill-opacity:1; font-family:Arial,Helvetica Neue,Helvetica,sans-serif; font-size:48px; text-anchor:middle;\" transform=\"rotate(0, 839.803, 1541.47)\" x=\"839.803\" y=\"1541.47\">-2.5</text>\n",
       "</g>\n",
       "<g clip-path=\"url(#clip3300)\">\n",
       "<text style=\"fill:#000000; fill-opacity:1; font-family:Arial,Helvetica Neue,Helvetica,sans-serif; font-size:48px; text-anchor:middle;\" transform=\"rotate(0, 1266.71, 1541.47)\" x=\"1266.71\" y=\"1541.47\">0.0</text>\n",
       "</g>\n",
       "<g clip-path=\"url(#clip3300)\">\n",
       "<text style=\"fill:#000000; fill-opacity:1; font-family:Arial,Helvetica Neue,Helvetica,sans-serif; font-size:48px; text-anchor:middle;\" transform=\"rotate(0, 1693.61, 1541.47)\" x=\"1693.61\" y=\"1541.47\">2.5</text>\n",
       "</g>\n",
       "<g clip-path=\"url(#clip3300)\">\n",
       "<text style=\"fill:#000000; fill-opacity:1; font-family:Arial,Helvetica Neue,Helvetica,sans-serif; font-size:48px; text-anchor:middle;\" transform=\"rotate(0, 2120.52, 1541.47)\" x=\"2120.52\" y=\"1541.47\">5.0</text>\n",
       "</g>\n",
       "<g clip-path=\"url(#clip3300)\">\n",
       "<text style=\"fill:#000000; fill-opacity:1; font-family:Arial,Helvetica Neue,Helvetica,sans-serif; font-size:48px; text-anchor:end;\" transform=\"rotate(0, 156.66, 1464.21)\" x=\"156.66\" y=\"1464.21\">0.00</text>\n",
       "</g>\n",
       "<g clip-path=\"url(#clip3300)\">\n",
       "<text style=\"fill:#000000; fill-opacity:1; font-family:Arial,Helvetica Neue,Helvetica,sans-serif; font-size:48px; text-anchor:end;\" transform=\"rotate(0, 156.66, 1124.54)\" x=\"156.66\" y=\"1124.54\">0.25</text>\n",
       "</g>\n",
       "<g clip-path=\"url(#clip3300)\">\n",
       "<text style=\"fill:#000000; fill-opacity:1; font-family:Arial,Helvetica Neue,Helvetica,sans-serif; font-size:48px; text-anchor:end;\" transform=\"rotate(0, 156.66, 784.859)\" x=\"156.66\" y=\"784.859\">0.50</text>\n",
       "</g>\n",
       "<g clip-path=\"url(#clip3300)\">\n",
       "<text style=\"fill:#000000; fill-opacity:1; font-family:Arial,Helvetica Neue,Helvetica,sans-serif; font-size:48px; text-anchor:end;\" transform=\"rotate(0, 156.66, 445.182)\" x=\"156.66\" y=\"445.182\">0.75</text>\n",
       "</g>\n",
       "<g clip-path=\"url(#clip3300)\">\n",
       "<text style=\"fill:#000000; fill-opacity:1; font-family:Arial,Helvetica Neue,Helvetica,sans-serif; font-size:48px; text-anchor:end;\" transform=\"rotate(0, 156.66, 105.505)\" x=\"156.66\" y=\"105.505\">1.00</text>\n",
       "</g>\n",
       "<polyline clip-path=\"url(#clip3302)\" style=\"stroke:#009af9; stroke-width:8; stroke-opacity:1; fill:none\" points=\"\n",
       "  242.135,1446.71 259.211,1446.71 276.287,1446.71 293.363,1446.71 310.44,1446.71 327.516,1446.71 344.592,1446.71 361.668,1446.71 378.745,1446.71 395.821,1446.71 \n",
       "  412.897,1446.71 429.973,1446.71 447.049,1446.71 464.126,1446.71 481.202,1446.71 498.278,1446.71 515.354,1446.71 532.431,1446.71 549.507,1446.71 566.583,1446.71 \n",
       "  583.659,1446.71 600.735,1446.71 617.812,1446.71 634.888,1446.71 651.964,1446.71 669.04,1446.71 686.117,1446.7 703.193,1446.69 720.269,1446.66 737.345,1446.62 \n",
       "  754.421,1446.55 771.498,1446.41 788.574,1446.18 805.65,1445.79 822.726,1445.14 839.803,1444.09 856.879,1442.43 873.955,1439.86 891.031,1435.97 908.107,1430.2 \n",
       "  925.184,1421.83 942.26,1409.96 959.336,1393.5 976.412,1371.2 993.489,1341.68 1010.56,1303.51 1027.64,1255.33 1044.72,1196.01 1061.79,1124.8 1078.87,1041.55 \n",
       "  1095.95,946.873 1113.02,842.281 1130.1,730.277 1147.17,614.333 1164.25,498.775 1181.33,388.551 1198.4,288.899 1215.48,204.948 1232.56,141.281 1249.63,101.525 \n",
       "  1266.71,88.0053 1283.78,101.525 1300.86,141.281 1317.94,204.948 1335.01,288.899 1352.09,388.551 1369.17,498.775 1386.24,614.333 1403.32,730.277 1420.39,842.281 \n",
       "  1437.47,946.873 1454.55,1041.55 1471.62,1124.8 1488.7,1196.01 1505.78,1255.33 1522.85,1303.51 1539.93,1341.68 1557,1371.2 1574.08,1393.5 1591.16,1409.96 \n",
       "  1608.23,1421.83 1625.31,1430.2 1642.39,1435.97 1659.46,1439.86 1676.54,1442.43 1693.61,1444.09 1710.69,1445.14 1727.77,1445.79 1744.84,1446.18 1761.92,1446.41 \n",
       "  1778.99,1446.55 1796.07,1446.62 1813.15,1446.66 1830.22,1446.69 1847.3,1446.7 1864.38,1446.71 1881.45,1446.71 1898.53,1446.71 1915.6,1446.71 1932.68,1446.71 \n",
       "  1949.76,1446.71 1966.83,1446.71 1983.91,1446.71 2000.99,1446.71 2018.06,1446.71 2035.14,1446.71 2052.21,1446.71 2069.29,1446.71 2086.37,1446.71 2103.44,1446.71 \n",
       "  2120.52,1446.71 2137.6,1446.71 2154.67,1446.71 2171.75,1446.71 2188.82,1446.71 2205.9,1446.71 2222.98,1446.71 2240.05,1446.71 2257.13,1446.71 2274.21,1446.71 \n",
       "  2291.28,1446.71 \n",
       "  \"/>\n",
       "<polyline clip-path=\"url(#clip3302)\" style=\"stroke:#e26f46; stroke-width:8; stroke-opacity:1; fill:none\" points=\"\n",
       "  242.135,1446.71 259.211,1446.71 276.287,1446.71 293.363,1446.71 310.44,1446.71 327.516,1446.71 344.592,1446.71 361.668,1446.71 378.745,1446.71 395.821,1446.71 \n",
       "  412.897,1446.71 429.973,1446.71 447.049,1446.71 464.126,1446.71 481.202,1446.71 498.278,1446.71 515.354,1446.71 532.431,1446.71 549.507,1446.71 566.583,1446.71 \n",
       "  583.659,1446.71 600.735,1446.71 617.812,1446.71 634.888,1446.71 651.964,1446.71 669.04,1446.71 686.117,1446.71 703.193,1446.71 720.269,1446.71 737.345,1446.71 \n",
       "  754.421,1446.71 771.498,1446.71 788.574,1446.71 805.65,1446.71 822.726,1446.71 839.803,1446.71 856.879,1446.71 873.955,1446.71 891.031,1446.71 908.107,1446.71 \n",
       "  925.184,1446.71 942.26,1446.71 959.336,1446.71 976.412,1446.7 993.489,1446.69 1010.56,1446.67 1027.64,1446.63 1044.72,1446.57 1061.79,1446.47 1078.87,1446.3 \n",
       "  1095.95,1446.03 1113.02,1445.6 1130.1,1444.92 1147.17,1443.87 1164.25,1442.29 1181.33,1439.95 1198.4,1436.53 1215.48,1431.64 1232.56,1424.77 1249.63,1415.3 \n",
       "  1266.71,1402.49 1283.78,1385.49 1300.86,1363.36 1317.94,1335.11 1335.01,1299.77 1352.09,1256.44 1369.17,1204.42 1386.24,1143.29 1403.32,1073.01 1420.39,994.078 \n",
       "  1437.47,907.538 1454.55,815.073 1471.62,718.986 1488.7,622.139 1505.78,527.845 1522.85,439.688 1539.93,361.307 1557,296.152 1574.08,247.233 1591.16,216.889 \n",
       "  1608.23,206.605 1625.31,216.889 1642.39,247.233 1659.46,296.152 1676.54,361.307 1693.61,439.688 1710.69,527.845 1727.77,622.139 1744.84,718.986 1761.92,815.073 \n",
       "  1778.99,907.538 1796.07,994.078 1813.15,1073.01 1830.22,1143.29 1847.3,1204.42 1864.38,1256.44 1881.45,1299.77 1898.53,1335.11 1915.6,1363.36 1932.68,1385.49 \n",
       "  1949.76,1402.49 1966.83,1415.3 1983.91,1424.77 2000.99,1431.64 2018.06,1436.53 2035.14,1439.95 2052.21,1442.29 2069.29,1443.87 2086.37,1444.92 2103.44,1445.6 \n",
       "  2120.52,1446.03 2137.6,1446.3 2154.67,1446.47 2171.75,1446.57 2188.82,1446.63 2205.9,1446.67 2222.98,1446.69 2240.05,1446.7 2257.13,1446.71 2274.21,1446.71 \n",
       "  2291.28,1446.71 \n",
       "  \"/>\n",
       "<polyline clip-path=\"url(#clip3302)\" style=\"stroke:#3da44d; stroke-width:8; stroke-opacity:1; fill:none\" points=\"\n",
       "  242.135,1446.71 259.211,1446.71 276.287,1446.71 293.363,1446.71 310.44,1446.71 327.516,1446.71 344.592,1446.71 361.668,1446.71 378.745,1446.71 395.821,1446.71 \n",
       "  412.897,1446.71 429.973,1446.71 447.049,1446.71 464.126,1446.71 481.202,1446.71 498.278,1446.71 515.354,1446.71 532.431,1446.71 549.507,1446.71 566.583,1446.71 \n",
       "  583.659,1446.71 600.735,1446.71 617.812,1446.71 634.888,1446.71 651.964,1446.71 669.04,1446.71 686.117,1446.71 703.193,1446.71 720.269,1446.71 737.345,1446.71 \n",
       "  754.421,1446.71 771.498,1446.71 788.574,1446.71 805.65,1446.71 822.726,1446.71 839.803,1446.71 856.879,1446.71 873.955,1446.71 891.031,1446.71 908.107,1446.71 \n",
       "  925.184,1446.71 942.26,1446.71 959.336,1446.71 976.412,1446.71 993.489,1446.71 1010.56,1446.71 1027.64,1446.7 1044.72,1446.69 1061.79,1446.66 1078.87,1446.62 \n",
       "  1095.95,1446.55 1113.02,1446.41 1130.1,1446.18 1147.17,1445.79 1164.25,1445.14 1181.33,1444.09 1198.4,1442.43 1215.48,1439.86 1232.56,1435.97 1249.63,1430.2 \n",
       "  1266.71,1421.83 1283.78,1409.96 1300.86,1393.5 1317.94,1371.2 1335.01,1341.68 1352.09,1303.51 1369.17,1255.33 1386.24,1196.01 1403.32,1124.8 1420.39,1041.55 \n",
       "  1437.47,946.873 1454.55,842.281 1471.62,730.277 1488.7,614.333 1505.78,498.775 1522.85,388.551 1539.93,288.899 1557,204.948 1574.08,141.281 1591.16,101.525 \n",
       "  1608.23,88.0053 1625.31,101.525 1642.39,141.281 1659.46,204.948 1676.54,288.899 1693.61,388.551 1710.69,498.775 1727.77,614.333 1744.84,730.277 1761.92,842.281 \n",
       "  1778.99,946.873 1796.07,1041.55 1813.15,1124.8 1830.22,1196.01 1847.3,1255.33 1864.38,1303.51 1881.45,1341.68 1898.53,1371.2 1915.6,1393.5 1932.68,1409.96 \n",
       "  1949.76,1421.83 1966.83,1430.2 1983.91,1435.97 2000.99,1439.86 2018.06,1442.43 2035.14,1444.09 2052.21,1445.14 2069.29,1445.79 2086.37,1446.18 2103.44,1446.41 \n",
       "  2120.52,1446.55 2137.6,1446.62 2154.67,1446.66 2171.75,1446.69 2188.82,1446.7 2205.9,1446.71 2222.98,1446.71 2240.05,1446.71 2257.13,1446.71 2274.21,1446.71 \n",
       "  2291.28,1446.71 \n",
       "  \"/>\n",
       "<polygon clip-path=\"url(#clip3300)\" points=\"\n",
       "1747.77,372.684 2280.76,372.684 2280.76,130.764 1747.77,130.764 \n",
       "  \" fill=\"#ffffff\" fill-rule=\"evenodd\" fill-opacity=\"1\"/>\n",
       "<polyline clip-path=\"url(#clip3300)\" style=\"stroke:#000000; stroke-width:4; stroke-opacity:1; fill:none\" points=\"\n",
       "  1747.77,372.684 2280.76,372.684 2280.76,130.764 1747.77,130.764 1747.77,372.684 \n",
       "  \"/>\n",
       "<polyline clip-path=\"url(#clip3300)\" style=\"stroke:#009af9; stroke-width:8; stroke-opacity:1; fill:none\" points=\"\n",
       "  1771.77,191.244 1915.77,191.244 \n",
       "  \"/>\n",
       "<g clip-path=\"url(#clip3300)\">\n",
       "<text style=\"fill:#000000; fill-opacity:1; font-family:Arial,Helvetica Neue,Helvetica,sans-serif; font-size:48px; text-anchor:start;\" transform=\"rotate(0, 1939.77, 208.744)\" x=\"1939.77\" y=\"208.744\">exact</text>\n",
       "</g>\n",
       "<polyline clip-path=\"url(#clip3300)\" style=\"stroke:#e26f46; stroke-width:8; stroke-opacity:1; fill:none\" points=\"\n",
       "  1771.77,251.724 1915.77,251.724 \n",
       "  \"/>\n",
       "<g clip-path=\"url(#clip3300)\">\n",
       "<text style=\"fill:#000000; fill-opacity:1; font-family:Arial,Helvetica Neue,Helvetica,sans-serif; font-size:48px; text-anchor:start;\" transform=\"rotate(0, 1939.77, 269.224)\" x=\"1939.77\" y=\"269.224\">Courant = 1/2</text>\n",
       "</g>\n",
       "<polyline clip-path=\"url(#clip3300)\" style=\"stroke:#3da44d; stroke-width:8; stroke-opacity:1; fill:none\" points=\"\n",
       "  1771.77,312.204 1915.77,312.204 \n",
       "  \"/>\n",
       "<g clip-path=\"url(#clip3300)\">\n",
       "<text style=\"fill:#000000; fill-opacity:1; font-family:Arial,Helvetica Neue,Helvetica,sans-serif; font-size:48px; text-anchor:start;\" transform=\"rotate(0, 1939.77, 329.704)\" x=\"1939.77\" y=\"329.704\">Courant = 1.0</text>\n",
       "</g>\n",
       "</svg>\n"
      ]
     },
     "execution_count": 19,
     "metadata": {},
     "output_type": "execute_result"
    }
   ],
   "source": [
    "plot(x,hcat(u[:,1],u[:,end],u2[:,end]),label=[\"exact\" \"Courant = 1/2\" \"Courant = 1.0\"],lw=2)"
   ]
  },
  {
   "cell_type": "markdown",
   "metadata": {},
   "source": [
    "The linear convection equation should preserve the initial condition. However, the finite difference method leads to dispersion (i.e. phase shift) as well as damping. Choosing a Courant number of 1 gets rid of the damping but it does not get rid of the phase shift."
   ]
  }
 ],
 "metadata": {
  "kernelspec": {
   "display_name": "Julia 1.1.0",
   "language": "julia",
   "name": "julia-1.1"
  },
  "language_info": {
   "file_extension": ".jl",
   "mimetype": "application/julia",
   "name": "julia",
   "version": "1.1.0"
  }
 },
 "nbformat": 4,
 "nbformat_minor": 2
}
